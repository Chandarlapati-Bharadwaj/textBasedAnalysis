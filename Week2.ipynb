{
 "cells": [
  {
   "cell_type": "code",
   "execution_count": 1,
   "metadata": {},
   "outputs": [
    {
     "name": "stdout",
     "output_type": "stream",
     "text": [
      "e\n",
      "llo\n"
     ]
    }
   ],
   "source": [
    "a = \"Hello, World!\"\n",
    "print(a[1])  # This will print 'e'\n",
    "b = \"Hello, World!\"\n",
    "print(b[2:5])  # This will print 'llo'"
   ]
  },
  {
   "cell_type": "code",
   "execution_count": 2,
   "metadata": {},
   "outputs": [
    {
     "name": "stdout",
     "output_type": "stream",
     "text": [
      "['One', 'two', 'three', 'four']\n",
      "['1', '2', '3', '4', '5']\n"
     ]
    }
   ],
   "source": [
    "# Initialize a string variable\n",
    "my_string = 'One two three four'\n",
    "# Split the string into a list of words using default delimiter (space)\n",
    "word_list = my_string.split()\n",
    "# Print the list of words\n",
    "print(word_list)  # Outputs ['One', 'two', 'three', 'four']\n",
    "\n",
    "# Reassign a new string with numbers separated by slashes to the variable\n",
    "my_string = '1/2/3/4/5'\n",
    "# Split the string into a list using '/' as the delimiter\n",
    "number_list = my_string.split('/')\n",
    "# Print the list of numbers as strings\n",
    "print(number_list)  # Outputs ['1', '2', '3', '4', '5']"
   ]
  },
  {
   "cell_type": "code",
   "execution_count": 3,
   "metadata": {},
   "outputs": [
    {
     "name": "stdout",
     "output_type": "stream",
     "text": [
      "9\n",
      "BHARADWAJ\n",
      "bharadwaj\n"
     ]
    }
   ],
   "source": [
    "# Assign the string \"Bharadwaj\" to the variable a\n",
    "a = \"Bharadwaj\"\n",
    "\n",
    "# Print the length of the string stored in a\n",
    "print(len(a))  # Outputs the number of characters in the string, including spaces and punctuation\n",
    "\n",
    "# Convert the string in a to uppercase and print it\n",
    "print(a.upper())  # Outputs \"Bharadwaj\"\n",
    "\n",
    "# Convert the string in a to lowercase and print it\n",
    "print(a.lower())  # Outputs \"Bharadwaj\""
   ]
  },
  {
   "cell_type": "code",
   "execution_count": 4,
   "metadata": {},
   "outputs": [
    {
     "name": "stdout",
     "output_type": "stream",
     "text": [
      "String after lstrip(): Bharadwaj  \n",
      "String after rstrip():   Bharadwaj\n"
     ]
    }
   ],
   "source": [
    "# Initialize a string with leading and trailing spaces\n",
    "example_string = \"  Bharadwaj  \"\n",
    "\n",
    "# Use the lstrip() method to remove leading spaces and print the result\n",
    "print(\"String after lstrip():\", example_string.lstrip())\n",
    "# Outputs the string with leading spaces removed, but trailing spaces are still present\n",
    "\n",
    "# Use the rstrip() method to remove trailing spaces and print the result\n",
    "print(\"String after rstrip():\", example_string.rstrip())\n",
    "# Outputs the string with trailing spaces removed, but leading spaces are still present"
   ]
  },
  {
   "cell_type": "code",
   "execution_count": 5,
   "metadata": {},
   "outputs": [
    {
     "name": "stdout",
     "output_type": "stream",
     "text": [
      "Slice 1: Sai\n",
      "Slice 2: Sri\n",
      "Slice 3: Sheetal\n",
      "Slice 3: Bharadwaj\n"
     ]
    }
   ],
   "source": [
    "# Initialize a string variable\n",
    "text = \"SaiSriSheetalBharadwaj\"\n",
    "\n",
    "# Slice the string from index 0 to 3 (not including 5) and store it in slice1\n",
    "slice1 = text[0:3]\n",
    "# Slice the string from index 3 to 6 (not including 10) and store it in slice2\n",
    "slice2 = text[3:6]\n",
    "# Slice the string from index 6 to 12 (not including 12) and store it in slice3\n",
    "slice3 = text[6:13]\n",
    "# Slice the string from index 12 to 21 (not including 12) and store it in slice4\n",
    "slice4 = text[13:22]\n",
    "\n",
    "\n",
    "# Print the results of the slicing\n",
    "print(\"Slice 1:\", slice1)\n",
    "print(\"Slice 2:\", slice2)\n",
    "print(\"Slice 3:\", slice3)\n",
    "print(\"Slice 3:\", slice4)"
   ]
  }
 ],
 "metadata": {
  "kernelspec": {
   "display_name": "Python 3",
   "language": "python",
   "name": "python3"
  },
  "language_info": {
   "codemirror_mode": {
    "name": "ipython",
    "version": 3
   },
   "file_extension": ".py",
   "mimetype": "text/x-python",
   "name": "python",
   "nbconvert_exporter": "python",
   "pygments_lexer": "ipython3",
   "version": "3.7.4"
  }
 },
 "nbformat": 4,
 "nbformat_minor": 5
}
