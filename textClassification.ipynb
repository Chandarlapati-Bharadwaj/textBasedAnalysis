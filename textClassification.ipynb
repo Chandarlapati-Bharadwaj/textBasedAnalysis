{
 "cells": [
  {
   "cell_type": "markdown",
   "metadata": {},
   "source": [
    "## Text Classification"
   ]
  },
  {
   "cell_type": "markdown",
   "metadata": {},
   "source": [
    "## Importing dataset"
   ]
  },
  {
   "cell_type": "code",
   "execution_count": 2,
   "metadata": {
    "scrolled": true
   },
   "outputs": [
    {
     "data": {
      "text/html": [
       "<div>\n",
       "<style scoped>\n",
       "    .dataframe tbody tr th:only-of-type {\n",
       "        vertical-align: middle;\n",
       "    }\n",
       "\n",
       "    .dataframe tbody tr th {\n",
       "        vertical-align: top;\n",
       "    }\n",
       "\n",
       "    .dataframe thead th {\n",
       "        text-align: right;\n",
       "    }\n",
       "</style>\n",
       "<table border=\"1\" class=\"dataframe\">\n",
       "  <thead>\n",
       "    <tr style=\"text-align: right;\">\n",
       "      <th></th>\n",
       "      <th>Issue_id</th>\n",
       "      <th>Priority</th>\n",
       "      <th>Component</th>\n",
       "      <th>Title</th>\n",
       "      <th>Description</th>\n",
       "      <th>Status</th>\n",
       "      <th>Resolution</th>\n",
       "      <th>Version</th>\n",
       "      <th>Created_time</th>\n",
       "      <th>Resolved_time</th>\n",
       "    </tr>\n",
       "  </thead>\n",
       "  <tbody>\n",
       "    <tr>\n",
       "      <td>0</td>\n",
       "      <td>1518</td>\n",
       "      <td>P1</td>\n",
       "      <td>Debug</td>\n",
       "      <td>Icons needed for actions (1GI5UXW)</td>\n",
       "      <td>JGS (8/8/01 5:20:19 PM); \\tWe need enabled; di...</td>\n",
       "      <td>VERIFIED</td>\n",
       "      <td>FIXED</td>\n",
       "      <td>2.0</td>\n",
       "      <td>2001-10-10 22:14:00 -0400</td>\n",
       "      <td>2001-10-18 11:51:14 -0400</td>\n",
       "    </tr>\n",
       "    <tr>\n",
       "      <td>1</td>\n",
       "      <td>1519</td>\n",
       "      <td>P3</td>\n",
       "      <td>Debug</td>\n",
       "      <td>README: Hit count not reset (1GET20Y)</td>\n",
       "      <td>JGS (6/4/01 11:43:47 AM); \\tSet a breakpoint i...</td>\n",
       "      <td>RESOLVED</td>\n",
       "      <td>WORKSFORME</td>\n",
       "      <td>2.0</td>\n",
       "      <td>2001-10-10 22:14:00 -0400</td>\n",
       "      <td>2001-11-28 13:42:46 -0500</td>\n",
       "    </tr>\n",
       "    <tr>\n",
       "      <td>2</td>\n",
       "      <td>1520</td>\n",
       "      <td>P3</td>\n",
       "      <td>Debug</td>\n",
       "      <td>Use styled text in console (1G9S1YF)</td>\n",
       "      <td>DW (2/26/01 5:56:36 PM); \\tCould allow users t...</td>\n",
       "      <td>CLOSED</td>\n",
       "      <td>WONTFIX</td>\n",
       "      <td>2.0</td>\n",
       "      <td>2001-10-10 22:14:00 -0400</td>\n",
       "      <td>2002-06-26 11:32:05 -0400</td>\n",
       "    </tr>\n",
       "    <tr>\n",
       "      <td>3</td>\n",
       "      <td>1521</td>\n",
       "      <td>P3</td>\n",
       "      <td>Debug</td>\n",
       "      <td>StringBuffer representation (1GE3BFA)</td>\n",
       "      <td>JGS (5/21/01 2:09:10 PM); \\tTo be consistent; ...</td>\n",
       "      <td>VERIFIED</td>\n",
       "      <td>FIXED</td>\n",
       "      <td>2.0</td>\n",
       "      <td>2001-10-10 22:14:00 -0400</td>\n",
       "      <td>2002-02-05 10:37:09 -0500</td>\n",
       "    </tr>\n",
       "    <tr>\n",
       "      <td>4</td>\n",
       "      <td>1522</td>\n",
       "      <td>P2</td>\n",
       "      <td>Debug</td>\n",
       "      <td>Feature: use #toString to display variable val...</td>\n",
       "      <td>DW (9/27/00 11:12:31 AM); \\tCurrently; the typ...</td>\n",
       "      <td>RESOLVED</td>\n",
       "      <td>DUPLICATE</td>\n",
       "      <td>2.0</td>\n",
       "      <td>2001-10-10 22:14:00 -0400</td>\n",
       "      <td>2001-10-17 10:17:47 -0400</td>\n",
       "    </tr>\n",
       "  </tbody>\n",
       "</table>\n",
       "</div>"
      ],
      "text/plain": [
       "   Issue_id Priority Component  \\\n",
       "0      1518       P1     Debug   \n",
       "1      1519       P3     Debug   \n",
       "2      1520       P3     Debug   \n",
       "3      1521       P3     Debug   \n",
       "4      1522       P2     Debug   \n",
       "\n",
       "                                               Title  \\\n",
       "0                 Icons needed for actions (1GI5UXW)   \n",
       "1              README: Hit count not reset (1GET20Y)   \n",
       "2               Use styled text in console (1G9S1YF)   \n",
       "3              StringBuffer representation (1GE3BFA)   \n",
       "4  Feature: use #toString to display variable val...   \n",
       "\n",
       "                                         Description    Status  Resolution  \\\n",
       "0  JGS (8/8/01 5:20:19 PM); \\tWe need enabled; di...  VERIFIED       FIXED   \n",
       "1  JGS (6/4/01 11:43:47 AM); \\tSet a breakpoint i...  RESOLVED  WORKSFORME   \n",
       "2  DW (2/26/01 5:56:36 PM); \\tCould allow users t...    CLOSED     WONTFIX   \n",
       "3  JGS (5/21/01 2:09:10 PM); \\tTo be consistent; ...  VERIFIED       FIXED   \n",
       "4  DW (9/27/00 11:12:31 AM); \\tCurrently; the typ...  RESOLVED   DUPLICATE   \n",
       "\n",
       "  Version               Created_time              Resolved_time  \n",
       "0     2.0  2001-10-10 22:14:00 -0400  2001-10-18 11:51:14 -0400  \n",
       "1     2.0  2001-10-10 22:14:00 -0400  2001-11-28 13:42:46 -0500  \n",
       "2     2.0  2001-10-10 22:14:00 -0400  2002-06-26 11:32:05 -0400  \n",
       "3     2.0  2001-10-10 22:14:00 -0400  2002-02-05 10:37:09 -0500  \n",
       "4     2.0  2001-10-10 22:14:00 -0400  2001-10-17 10:17:47 -0400  "
      ]
     },
     "execution_count": 2,
     "metadata": {},
     "output_type": "execute_result"
    }
   ],
   "source": [
    "# Importing modules\n",
    "import pandas as pd\n",
    " \n",
    "# Read data into df\n",
    "df = pd.read_csv( \"C:\\\\Users\\\\123ch\\\\Dropbox\\\\PC\\\\Downloads\\\\eclipse_jdt.csv\")   # eclipse_jdk.csv\n",
    "df = df.drop(columns=['Duplicated_issue'])\n",
    "# Print head\n",
    "df.head()"
   ]
  },
  {
   "cell_type": "markdown",
   "metadata": {},
   "source": [
    "## Plotting"
   ]
  },
  {
   "cell_type": "code",
   "execution_count": 4,
   "metadata": {
    "scrolled": true
   },
   "outputs": [
    {
     "data": {
      "text/plain": [
       "<matplotlib.axes._subplots.AxesSubplot at 0x183307ef2c8>"
      ]
     },
     "execution_count": 4,
     "metadata": {},
     "output_type": "execute_result"
    },
    {
     "data": {
      "image/png": "[encoded data removed]",
      "text/plain": [
       "<Figure size 432x288 with 1 Axes>"
      ]
     },
     "metadata": {
      "needs_background": "light"
     },
     "output_type": "display_data"
    }
   ],
   "source": [
    "df['Priority'].value_counts().sort_index().plot(kind='bar')"
   ]
  },
  {
   "cell_type": "markdown",
   "metadata": {},
   "source": [
    "## Plotting components"
   ]
  },
  {
   "cell_type": "code",
   "execution_count": 5,
   "metadata": {
    "scrolled": true
   },
   "outputs": [
    {
     "data": {
      "text/plain": [
       "<matplotlib.axes._subplots.AxesSubplot at 0x183308763c8>"
      ]
     },
     "execution_count": 5,
     "metadata": {},
     "output_type": "execute_result"
    },
    {
     "data": {
      "image/png": "[encoded data removed]",
      "text/plain": [
       "<Figure size 432x288 with 1 Axes>"
      ]
     },
     "metadata": {
      "needs_background": "light"
     },
     "output_type": "display_data"
    }
   ],
   "source": [
    "df['Component'].value_counts().sort_index().plot(kind='bar')"
   ]
  },
  {
   "cell_type": "markdown",
   "metadata": {},
   "source": [
    "## Function to remove any odd words:"
   ]
  },
  {
   "cell_type": "code",
   "execution_count": 6,
   "metadata": {},
   "outputs": [],
   "source": [
    "import html\n",
    "import re\n",
    "def clean(text):\n",
    "    # convert html escapes like & to characters.\n",
    "    text = html.unescape(text) \n",
    "    # tags like \n",
    "    text = re.sub(r'<[^<>]*>', ' ', text)\n",
    "    # markdown URLs like [Some text](https://....)\n",
    "    text = re.sub(r'\\[([^\\[\\]]*)\\]\\([^\\(\\)]*\\)', r'\\1', text)\n",
    "    # text or code in brackets like [0]\n",
    "    text = re.sub(r'\\[[^\\[\\]]*\\]', ' ', text)\n",
    "    # standalone sequences of specials, matches  but not #cool\n",
    "    text = re.sub(r'(?:^|\\s)[<>{}\\[\\]+|\\\\:-]{1,}(?:\\s|$)', ' ', text)\n",
    "    # standalone sequences of hyphens like --- or ==\n",
    "    text = re.sub(r'(?:^|\\s)[\\-=\\+]{2,}(?:\\s|$)', ' ', text)\n",
    "    # sequences of white spaces\n",
    "    text = re.sub(r'\\s+', ' ', text)\n",
    "    return text.strip()"
   ]
  },
  {
   "attachments": {},
   "cell_type": "markdown",
   "metadata": {},
   "source": [
    "## Data cleaning"
   ]
  },
  {
   "cell_type": "code",
   "execution_count": 7,
   "metadata": {
    "scrolled": true
   },
   "outputs": [
    {
     "data": {
      "text/html": [
       "<div>\n",
       "<style scoped>\n",
       "    .dataframe tbody tr th:only-of-type {\n",
       "        vertical-align: middle;\n",
       "    }\n",
       "\n",
       "    .dataframe tbody tr th {\n",
       "        vertical-align: top;\n",
       "    }\n",
       "\n",
       "    .dataframe thead th {\n",
       "        text-align: right;\n",
       "    }\n",
       "</style>\n",
       "<table border=\"1\" class=\"dataframe\">\n",
       "  <thead>\n",
       "    <tr style=\"text-align: right;\">\n",
       "      <th></th>\n",
       "      <th>Priority</th>\n",
       "      <th>text</th>\n",
       "    </tr>\n",
       "  </thead>\n",
       "  <tbody>\n",
       "    <tr>\n",
       "      <td>7282</td>\n",
       "      <td>P3</td>\n",
       "      <td>Editor Arrays When creating an arry like this:...</td>\n",
       "    </tr>\n",
       "    <tr>\n",
       "      <td>33364</td>\n",
       "      <td>P3</td>\n",
       "      <td>Exception generating content proprosal in IBM ...</td>\n",
       "    </tr>\n",
       "  </tbody>\n",
       "</table>\n",
       "</div>"
      ],
      "text/plain": [
       "      Priority                                               text\n",
       "7282        P3  Editor Arrays When creating an arry like this:...\n",
       "33364       P3  Exception generating content proprosal in IBM ..."
      ]
     },
     "execution_count": 7,
     "metadata": {},
     "output_type": "execute_result"
    }
   ],
   "source": [
    "df = df[['Title','Description','Priority']]\n",
    "df = df.dropna()\n",
    "df['text'] = df['Title'] + ' ' + df['Description']\n",
    "df = df.drop(columns=['Title','Description']) \n",
    "df['text'] = df['text'].apply(clean)\n",
    "df = df[df['text'].str.len() > 50]\n",
    "df.sample(2)"
   ]
  },
  {
   "cell_type": "markdown",
   "metadata": {},
   "source": [
    "## Splitting the data"
   ]
  },
  {
   "cell_type": "code",
   "execution_count": 8,
   "metadata": {},
   "outputs": [
    {
     "name": "stdout",
     "output_type": "stream",
     "text": [
      "Size of Training Data  36040\n",
      "Size of Test Data  9011\n"
     ]
    }
   ],
   "source": [
    "from sklearn.model_selection import train_test_split\n",
    "X_train, X_test, Y_train, Y_test = train_test_split(df['text'],\n",
    "                                                    df['Priority'],\n",
    "                                                    test_size=0.2,\n",
    "                                                    random_state=42,\n",
    "                                                    stratify=df['Priority'])\n",
    "\n",
    "print('Size of Training Data ', X_train.shape[0])\n",
    "print('Size of Test Data ', X_test.shape[0])\n"
   ]
  },
  {
   "attachments": {},
   "cell_type": "markdown",
   "metadata": {},
   "source": [
    "## Convert X_train to numbers"
   ]
  },
  {
   "cell_type": "code",
   "execution_count": 9,
   "metadata": {},
   "outputs": [],
   "source": [
    "from sklearn.feature_extraction.text import TfidfVectorizer\n",
    "from sklearn.svm import SVC\n",
    "tfidf = TfidfVectorizer(min_df = 10, ngram_range=(1,2), stop_words=\"english\")\n",
    "X_train_tf = tfidf.fit_transform(X_train)\n",
    "X_test_tf = tfidf.transform(X_test)"
   ]
  },
  {
   "attachments": {},
   "cell_type": "markdown",
   "metadata": {},
   "source": [
    "## Building the model"
   ]
  },
  {
   "cell_type": "code",
   "execution_count": 10,
   "metadata": {
    "scrolled": true
   },
   "outputs": [
    {
     "data": {
      "text/plain": [
       "LinearSVC(C=1.0, class_weight=None, dual=True, fit_intercept=True,\n",
       "          intercept_scaling=1, loss='squared_hinge', max_iter=1000,\n",
       "          multi_class='ovr', penalty='l2', random_state=0, tol=1e-05,\n",
       "          verbose=0)"
      ]
     },
     "execution_count": 10,
     "metadata": {},
     "output_type": "execute_result"
    }
   ],
   "source": [
    "from sklearn.svm import LinearSVC\n",
    "\n",
    "model1 = LinearSVC(random_state=0, tol=1e-5)\n",
    "model1.fit(X_train_tf, Y_train)"
   ]
  },
  {
   "attachments": {},
   "cell_type": "markdown",
   "metadata": {},
   "source": [
    "## Accuracy of the model"
   ]
  },
  {
   "cell_type": "code",
   "execution_count": 11,
   "metadata": {
    "scrolled": true
   },
   "outputs": [
    {
     "name": "stdout",
     "output_type": "stream",
     "text": [
      "Accuracy Score -  0.8761513705471091\n"
     ]
    }
   ],
   "source": [
    "from sklearn.metrics import accuracy_score\n",
    "\n",
    "Y_pred = model1.predict(X_test_tf)\n",
    "print ('Accuracy Score - ', accuracy_score(Y_test, Y_pred))"
   ]
  },
  {
   "attachments": {},
   "cell_type": "markdown",
   "metadata": {},
   "source": [
    "## Run Dummy"
   ]
  },
  {
   "cell_type": "code",
   "execution_count": 12,
   "metadata": {},
   "outputs": [
    {
     "name": "stdout",
     "output_type": "stream",
     "text": [
      "Accuracy Score -  0.8769281988680502\n"
     ]
    }
   ],
   "source": [
    "from sklearn.dummy import DummyClassifier\n",
    "clf = DummyClassifier(strategy='most_frequent', random_state=42)\n",
    "clf.fit(X_train, Y_train)\n",
    "Y_pred_baseline = clf.predict(X_test)\n",
    "print ('Accuracy Score - ', accuracy_score(Y_test, Y_pred_baseline))"
   ]
  },
  {
   "attachments": {},
   "cell_type": "markdown",
   "metadata": {},
   "source": [
    "## Confusion matrix"
   ]
  },
  {
   "cell_type": "code",
   "execution_count": 13,
   "metadata": {},
   "outputs": [
    {
     "data": {
      "text/plain": [
       "array([[  19,    1,  199,    4,    0],\n",
       "       [   6,   18,  576,    8,    0],\n",
       "       [   8,   48, 7827,   19,    0],\n",
       "       [   0,    5,  192,   31,    0],\n",
       "       [   0,    0,   50,    0,    0]], dtype=int64)"
      ]
     },
     "execution_count": 13,
     "metadata": {},
     "output_type": "execute_result"
    }
   ],
   "source": [
    "from sklearn.metrics import confusion_matrix\n",
    "Y_pred = model1.predict(X_test_tf)\n",
    "confusion_matrix(Y_test, Y_pred)"
   ]
  },
  {
   "cell_type": "code",
   "execution_count": 14,
   "metadata": {
    "scrolled": true
   },
   "outputs": [
    {
     "data": {
      "image/png": "[encoded data removed]",
      "text/plain": [
       "<Figure size 432x288 with 2 Axes>"
      ]
     },
     "metadata": {
      "needs_background": "light"
     },
     "output_type": "display_data"
    }
   ],
   "source": [
    "from sklearn.metrics import plot_confusion_matrix\n",
    "import matplotlib.pyplot as plt\n",
    "\n",
    "plot_confusion_matrix(model1,X_test_tf,\n",
    "                      Y_test, values_format='d',\n",
    "                      cmap=plt.cm.Blues)\n",
    "plt.show()"
   ]
  },
  {
   "attachments": {},
   "cell_type": "markdown",
   "metadata": {},
   "source": [
    "## Classification report"
   ]
  },
  {
   "cell_type": "code",
   "execution_count": 15,
   "metadata": {
    "scrolled": true
   },
   "outputs": [
    {
     "name": "stderr",
     "output_type": "stream",
     "text": [
      "C:\\Users\\123ch\\Anaconda3\\lib\\site-packages\\sklearn\\metrics\\_classification.py:1272: UndefinedMetricWarning: Precision and F-score are ill-defined and being set to 0.0 in labels with no predicted samples. Use `zero_division` parameter to control this behavior.\n",
      "  _warn_prf(average, modifier, msg_start, len(result))\n"
     ]
    },
    {
     "name": "stdout",
     "output_type": "stream",
     "text": [
      "              precision    recall  f1-score   support\n",
      "\n",
      "          P1       0.58      0.09      0.15       223\n",
      "          P2       0.25      0.03      0.05       608\n",
      "          P3       0.89      0.99      0.93      7902\n",
      "          P4       0.50      0.14      0.21       228\n",
      "          P5       0.00      0.00      0.00        50\n",
      "\n",
      "    accuracy                           0.88      9011\n",
      "   macro avg       0.44      0.25      0.27      9011\n",
      "weighted avg       0.82      0.88      0.83      9011\n",
      "\n"
     ]
    }
   ],
   "source": [
    "from sklearn.metrics import classification_report\n",
    "print(classification_report(Y_test, Y_pred))"
   ]
  },
  {
   "attachments": {},
   "cell_type": "markdown",
   "metadata": {},
   "source": [
    "## Downsampling"
   ]
  },
  {
   "cell_type": "code",
   "execution_count": 16,
   "metadata": {},
   "outputs": [
    {
     "data": {
      "text/plain": [
       "P3    4000\n",
       "P2    3038\n",
       "P4    1138\n",
       "P1    1117\n",
       "P5     252\n",
       "Name: Priority, dtype: int64"
      ]
     },
     "execution_count": 16,
     "metadata": {},
     "output_type": "execute_result"
    }
   ],
   "source": [
    "# Filter bug reports with priority P3 and sample 4000 rows from it\n",
    "df_sampleP3 = df[df['Priority'] == 'P3'].sample(n=4000, random_state=123)\n",
    "\n",
    "# Create a separate dataframe containing all other bug reports\n",
    "df_sampleRest = df[df['Priority'] != 'P3']\n",
    "\n",
    "# Concatenate the two dataframes to create the new balanced bug reports dataset\n",
    "df_balanced = pd.concat([df_sampleRest, df_sampleP3])\n",
    "\n",
    "# Check the status of the class imbalance\n",
    "df_balanced['Priority'].value_counts()"
   ]
  },
  {
   "cell_type": "markdown",
   "metadata": {},
   "source": [
    "## Repeat Everything"
   ]
  },
  {
   "cell_type": "code",
   "execution_count": 17,
   "metadata": {},
   "outputs": [
    {
     "name": "stdout",
     "output_type": "stream",
     "text": [
      "Size of Training Data  7636\n",
      "Size of Test Data  1909\n",
      "Accuracy Score -  0.5028810895756941\n",
      "              precision    recall  f1-score   support\n",
      "\n",
      "          P1       0.44      0.29      0.35       223\n",
      "          P2       0.45      0.48      0.46       608\n",
      "          P3       0.56      0.66      0.60       800\n",
      "          P4       0.47      0.34      0.39       228\n",
      "          P5       0.00      0.00      0.00        50\n",
      "\n",
      "    accuracy                           0.50      1909\n",
      "   macro avg       0.38      0.35      0.36      1909\n",
      "weighted avg       0.48      0.50      0.49      1909\n",
      "\n"
     ]
    }
   ],
   "source": [
    "# Loading the balanced dataframe\n",
    "\n",
    "df = df_balanced[['text', 'Priority']]\n",
    "df = df.dropna()\n",
    "\n",
    "# Step 1 - Data Preparation\n",
    "\n",
    "df['text'] = df['text'].apply(clean)\n",
    "\n",
    "# Step 2 - Train-Test Split\n",
    "X_train, X_test, Y_train, Y_test = train_test_split(df['text'],\n",
    "                                                    df['Priority'],\n",
    "                                                    test_size=0.2,\n",
    "                                                    random_state=42,\n",
    "                                                    stratify=df['Priority'])\n",
    "print('Size of Training Data ', X_train.shape[0])\n",
    "print('Size of Test Data ', X_test.shape[0])\n",
    "\n",
    "# Step 3 - Training the Machine Learning model\n",
    "\n",
    "tfidf = TfidfVectorizer(min_df=10, ngram_range=(1, 2), stop_words=\"english\")\n",
    "X_train_tf = tfidf.fit_transform(X_train)\n",
    "\n",
    "model1 = LinearSVC(random_state=0, tol=1e-5)\n",
    "model1.fit(X_train_tf, Y_train)\n",
    "\n",
    "# Step 4 - Model Evaluation\n",
    "\n",
    "X_test_tf = tfidf.transform(X_test)\n",
    "Y_pred = model1.predict(X_test_tf)\n",
    "print('Accuracy Score - ', accuracy_score(Y_test, Y_pred))\n",
    "print(classification_report(Y_test, Y_pred))"
   ]
  },
  {
   "cell_type": "code",
   "execution_count": 19,
   "metadata": {},
   "outputs": [
    {
     "name": "stdout",
     "output_type": "stream",
     "text": [
      "Size of Training Data  7208\n",
      "Size of Test Data  1802\n",
      "Best alpha parameter identified by grid search  {'model__C': 1, 'model__kernel': 'linear', 'tfidf__min_df': 5, 'tfidf__ngram_range': (1, 6)}\n",
      "Best result identified by grid search  0.7358510088444129\n",
      "Accuracy Score -  0.7386237513873474\n",
      "              precision    recall  f1-score   support\n",
      "\n",
      "         APT       1.00      0.31      0.48        16\n",
      "        Core       0.75      0.78      0.76       545\n",
      "       Debug       0.90      0.77      0.83       300\n",
      "         Doc       0.67      0.33      0.44        12\n",
      "        Text       0.65      0.47      0.54       235\n",
      "          UI       0.70      0.81      0.75       694\n",
      "\n",
      "    accuracy                           0.74      1802\n",
      "   macro avg       0.78      0.58      0.63      1802\n",
      "weighted avg       0.74      0.74      0.73      1802\n",
      "\n"
     ]
    }
   ],
   "source": [
    "from sklearn.pipeline import Pipeline\n",
    "from sklearn.model_selection import GridSearchCV\n",
    "from sklearn.svm import LinearSVC\n",
    "# Flag that determines the choice of SVC (True) and LinearSVC (False)\n",
    "runSVC = True\n",
    "# Loading the dataframe\n",
    "df = pd.read_csv('C:\\\\Users\\\\123ch\\\\Dropbox\\\\PC\\\\Downloads\\\\eclipse_jdt.csv')\n",
    "df = df.drop(columns=['Duplicated_issue'])\n",
    "df = df[['Title', 'Description', 'Component']]\n",
    "df = df.dropna()\n",
    "df['text'] = df['Title'] + df['Description']\n",
    "df = df.drop(columns=['Title', 'Description'])\n",
    "# Step 1 - Data Preparation\n",
    "df['text'] = df['text'].apply(clean)\n",
    "df = df[df['text'].str.len() > 50]\n",
    "if (runSVC):\n",
    "    # Sample the data when running SVC to ensure reasonable run-times\n",
    "    df = df.groupby('Component', as_index=False).apply(pd.DataFrame.sample,\n",
    "                                                       random_state=42,\n",
    "                                                       frac=.2)\n",
    "# Step 2 - Train-Test Split\n",
    "X_train, X_test, Y_train, Y_test = train_test_split(df['text'],\n",
    "                                                    df['Component'],\n",
    "                                                    test_size=0.2,\n",
    "                                                    random_state=42,\n",
    "                                                    stratify=df['Component'])\n",
    "print('Size of Training Data ', X_train.shape[0])\n",
    "print('Size of Test Data ', X_test.shape[0])\n",
    "# Step 3 - Training the Machine Learning model\n",
    "tfidf = TfidfVectorizer(stop_words=\"english\")\n",
    "if (runSVC):\n",
    "    model = SVC(random_state=42, probability=True)\n",
    "    grid_param = [{\n",
    "        'tfidf__min_df': [5, 10],\n",
    "        'tfidf__ngram_range': [(1, 3), (1, 6)],\n",
    "        'model__C': [1, 100],\n",
    "        'model__kernel': ['linear']\n",
    "    }]\n",
    "else:\n",
    "    model = LinearSVC(random_state=42, tol=1e-5)\n",
    "    grid_param = {\n",
    "        'tfidf__min_df': [5, 10],\n",
    "        'tfidf__ngram_range': [(1, 3), (1, 6)],\n",
    "        'model__C': [1, 100],\n",
    "        'model__loss': ['hinge']\n",
    "    }\n",
    "training_pipeline = Pipeline(\n",
    "    steps=[('tfidf', TfidfVectorizer(stop_words=\"english\")), ('model', model)])\n",
    "gridSearchProcessor = GridSearchCV(estimator=training_pipeline,\n",
    "                                   param_grid=grid_param,\n",
    "                                   cv=5)\n",
    "gridSearchProcessor.fit(X_train, Y_train)\n",
    "best_params = gridSearchProcessor.best_params_\n",
    "print(\"Best alpha parameter identified by grid search \", best_params)\n",
    "\n",
    "best_result = gridSearchProcessor.best_score_\n",
    "print(\"Best result identified by grid search \", best_result)\n",
    "\n",
    "best_model = gridSearchProcessor.best_estimator_\n",
    "\n",
    "# Step 4 - Model Evaluation\n",
    "\n",
    "Y_pred = best_model.predict(X_test)\n",
    "print('Accuracy Score - ', accuracy_score(Y_test, Y_pred))\n",
    "print(classification_report(Y_test, Y_pred))"
   ]
  }
 ],
 "metadata": {
  "kernelspec": {
   "display_name": "Python 3",
   "language": "python",
   "name": "python3"
  },
  "language_info": {
   "codemirror_mode": {
    "name": "ipython",
    "version": 3
   },
   "file_extension": ".py",
   "mimetype": "text/x-python",
   "name": "python",
   "nbconvert_exporter": "python",
   "pygments_lexer": "ipython3",
   "version": "3.7.4"
  }
 },
 "nbformat": 4,
 "nbformat_minor": 2
}
